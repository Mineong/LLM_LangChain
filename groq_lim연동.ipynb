{
 "cells": [
  {
   "cell_type": "code",
   "execution_count": null,
   "id": "f3824963",
   "metadata": {},
   "outputs": [],
   "source": []
  },
  {
   "cell_type": "code",
   "execution_count": 1,
   "id": "2ec6879a",
   "metadata": {},
   "outputs": [
    {
     "name": "stdout",
     "output_type": "stream",
     "text": [
      "Hello, world!\n"
     ]
    }
   ],
   "source": [
    "print('Hello, world!')"
   ]
  },
  {
   "cell_type": "code",
   "execution_count": 11,
   "id": "4a3018a5",
   "metadata": {},
   "outputs": [],
   "source": [
    "import os\n",
    "from dotenv import load_dotenv\n",
    "from langchain_core.prompts import ChatPromptTemplate\n",
    "from langchain_openai import ChatOpenAI \n",
    "\n",
    "\n",
    "load_dotenv()\n",
    "OPENAI_API_KEY = os.getenv(\"OPENAI_API_KEY\")"
   ]
  },
  {
   "cell_type": "code",
   "execution_count": 12,
   "id": "ce837de5",
   "metadata": {},
   "outputs": [
    {
     "name": "stdout",
     "output_type": "stream",
     "text": [
      "input_variables=['input'] input_types={} partial_variables={} messages=[SystemMessagePromptTemplate(prompt=PromptTemplate(input_variables=[], input_types={}, partial_variables={}, template='당신은 개발자입니다.'), additional_kwargs={}), HumanMessagePromptTemplate(prompt=PromptTemplate(input_variables=['input'], input_types={}, partial_variables={}, template='{input}'), additional_kwargs={})]\n"
     ]
    }
   ],
   "source": [
    "# prompt\n",
    "prompt = ChatPromptTemplate.from_messages(\n",
    "    [ (\"system\", \"당신은 개발자입니다.\") , \n",
    "     (\"user\", \"{input}\") ]\n",
    ")\n",
    "print(prompt)\n",
    "\n",
    "prompt_text = prompt.format(input=\"파이썬은 무엇인가요? 자세하게 설명해주세요\")"
   ]
  },
  {
   "cell_type": "code",
   "execution_count": 13,
   "id": "9606d0b0",
   "metadata": {},
   "outputs": [
    {
     "name": "stdout",
     "output_type": "stream",
     "text": [
      "client=<openai.resources.chat.completions.completions.Completions object at 0x0000019EDF97E060> async_client=<openai.resources.chat.completions.completions.AsyncCompletions object at 0x0000019EE0DCE5D0> root_client=<openai.OpenAI object at 0x0000019EDFADAA80> root_async_client=<openai.AsyncOpenAI object at 0x0000019EDFADA2A0> model_name='meta-llama/llama-4-scout-17b-16e-instruct' temperature=0.7 model_kwargs={} openai_api_key=SecretStr('**********') openai_api_base='https://api.groq.com/openai/v1'\n"
     ]
    }
   ],
   "source": [
    "# Groq API를 사용하는 ChatOpenAI 인스턴스 생성\n",
    "llm = ChatOpenAI(\n",
    "    api_key=OPENAI_API_KEY,\n",
    "    base_url=\"https://api.groq.com/openai/v1\",  # Groq API 엔드포인트\n",
    "    model=\"meta-llama/llama-4-scout-17b-16e-instruct\",\n",
    "    temperature=0.7\n",
    ")\n",
    "print(llm)"
   ]
  },
  {
   "cell_type": "code",
   "execution_count": 14,
   "id": "c6496b97",
   "metadata": {},
   "outputs": [
    {
     "name": "stdout",
     "output_type": "stream",
     "text": [
      "응답: 파이썬! 프로그래밍 세계에서 매우 인기 있는 언어 중 하나입니다. 파이썬은 1991년에 네덜란드계 프로그래머인 귀도 반 로섬(Guido van Rossum)에 의해 개발되었습니다. 그는 이전에 ABC와 Modula-3 언어를 개발한 경험이 있었고, 이를 바탕으로 파이썬을 만들었습니다.\n",
      "\n",
      "**파이썬의 특징**\n",
      "\n",
      "파이썬은 여러 가지 특징을 가지고 있습니다. 몇 가지 주요 특징을 살펴보겠습니다.\n",
      "\n",
      "1. **쉬운 학습 곡선**: 파이썬은 매우 직관적이고 읽기 쉬운 문법을 가지고 있습니다. 따라서 초보자들이 프로그래밍을 배우기에 아주 좋습니다.\n",
      "2. **고급 언어**: 파이썬은 고급 언어입니다. 즉, 기계어와 가까운 저급 언어보다는 인간이 이해하기 쉬운 높은 수준의 언어로, 개발자가 복잡한 작업을 쉽게 수행할 수 있습니다.\n",
      "3. **객체 지향 언어**: 파이썬은 객체 지향 언어입니다. 객체 지향 프로그래밍(OOP) 개념을 사용하여 프로그램을 모듈화하고 재사용할 수 있습니다.\n",
      "4. **동적 타이핑**: 파이썬은 동적 타이핑 언어입니다. 변수의 타입을 미리 선언할 필요가 없기 때문에 코드를 작성하기 쉽습니다.\n",
      "5. **대규모 라이브러리**: 파이썬은 방대한 라이브러리와 모듈을 보유하고 있습니다. 이를 통해 개발자는 다양한 작업을 쉽게 수행할 수 있습니다.\n",
      "\n",
      "**파이썬의 응용 분야**\n",
      "\n",
      "파이썬은 다양한 분야에서 사용됩니다. 몇 가지 주요 응용 분야를 살펴보겠습니다.\n",
      "\n",
      "1. **웹 개발**: 파이썬은 웹 개발에 널리 사용됩니다. 프레임워크인 Django와 Flask를 사용하여 웹 애플리케이션을 구축할 수 있습니다.\n",
      "2. **데이터 과학**: 파이썬은 데이터 과학에서 매우 인기가 있습니다. NumPy, pandas, scikit-learn 등의 라이브러리를 사용하여 데이터 분석, 머신러닝, 데이터 시각화를 수행할 수 있습니다.\n",
      "3. **스크립팅**: 파이썬은 스크립팅 언어로서도 사용됩니다. 간단한 스크립트를 작성하여 작업을 자동화할 수 있습니다.\n",
      "4. **게임 개발**: 파이썬은 게임 개발에도 사용됩니다. Pygame 라이브러리를 사용하여 2D 게임을 만들 수 있습니다.\n",
      "5. **교육**: 파이썬은 교육 기관에서 널리 사용됩니다. 프로그래밍 기초를 가르치기에 아주 좋은 언어입니다.\n",
      "\n",
      "**파이썬의 버전**\n",
      "\n",
      "파이썬은 두 가지 주요 버전으로 제공됩니다.\n",
      "\n",
      "1. **파이썬 2.x**: 파이썬 2.x는 2000년에 출시되었습니다. 현재는 유지 보수만 이루어지고 있으며, 새로운 기능은 추가되지 않습니다.\n",
      "2. **파이썬 3.x**: 파이썬 3.x는 2008년에 출시되었습니다. 현재 가장 인기 있는 버전이며, 새로운 기능이 지속적으로 추가되고 있습니다.\n",
      "\n",
      "결론적으로, 파이썬은 쉽고 강력한 프로그래밍 언어입니다. 다양한 분야에서 사용되며, 방대한 라이브러리와 모듈을 보유하고 있습니다. 따라서 파이썬은 초보자와 숙련된 개발자 모두에게 좋은 선택입니다.\n"
     ]
    }
   ],
   "source": [
    "try:\n",
    "    response = llm.invoke(prompt_text)\n",
    "    print(\"응답:\", response.content)\n",
    "except Exception as e:\n",
    "    print(f\"오류 발생: {e}\")"
   ]
  },
  {
   "cell_type": "markdown",
   "id": "7c2a1049",
   "metadata": {},
   "source": [
    "### LCEL\n",
    "* Prompt + LLM을 Chain으로 연결하기"
   ]
  },
  {
   "cell_type": "code",
   "execution_count": 15,
   "id": "8ea226ba",
   "metadata": {},
   "outputs": [
    {
     "data": {
      "text/plain": [
       "PromptTemplate(input_variables=['input'], input_types={}, partial_variables={}, template='\\n    You are an expert in AI Expert. Answer the question. \\n    <Question>: {input}에 대해 쉽게 설명해주세요.\")\\n    ')"
      ]
     },
     "execution_count": 15,
     "metadata": {},
     "output_type": "execute_result"
    }
   ],
   "source": [
    "from langchain_core.prompts import PromptTemplate\n",
    "\n",
    "prompt = PromptTemplate.from_template(\n",
    "    \"\"\"\n",
    "    You are an expert in AI Expert. Answer the question. \n",
    "    <Question>: {input}에 대해 쉽게 설명해주세요.\")\n",
    "    \"\"\")                                     \n",
    "prompt"
   ]
  },
  {
   "cell_type": "code",
   "execution_count": 16,
   "id": "f50c8c5b",
   "metadata": {},
   "outputs": [
    {
     "name": "stdout",
     "output_type": "stream",
     "text": [
      "<class 'langchain_core.runnables.base.RunnableSequence'>\n"
     ]
    }
   ],
   "source": [
    "# chain 연결 (LCEL)\n",
    "chain = prompt | llm\n",
    "print(type(chain))"
   ]
  },
  {
   "cell_type": "code",
   "execution_count": 17,
   "id": "cfea41ad",
   "metadata": {},
   "outputs": [
    {
     "name": "stdout",
     "output_type": "stream",
     "text": [
      "<class 'langchain_core.runnables.base.RunnableSequence'>\n"
     ]
    }
   ],
   "source": [
    "from langchain_core.output_parsers import StrOutputParser\n",
    "\n",
    "# chain 연결 (LCEL)\n",
    "output_parser = StrOutputParser()\n",
    "\n",
    "chain2 = prompt | llm | output_parser\n",
    "print(type(chain2))"
   ]
  },
  {
   "cell_type": "code",
   "execution_count": 18,
   "id": "4205be46",
   "metadata": {},
   "outputs": [
    {
     "name": "stdout",
     "output_type": "stream",
     "text": [
      "<class 'langchain_core.messages.ai.AIMessage'>\n",
      "인공지능 모델의 학습 원리는 사람의 뇌가 학습하는 방식과 유사합니다. 컴퓨터가 데이터를 통해 배우고, 패턴을 발견하며, 이를 기반으로 예측하거나 결정을 내릴 수 있도록 하는 것입니다.\n",
      "\n",
      "쉽게 설명하면 다음과 같습니다:\n",
      "\n",
      "1. **데이터 수집**: 인공지능 모델이 학습하기 위해서는 많은 데이터가 필요합니다. 이 데이터는 과거의 경험, 사례, 또는 실험을 통해 수집할 수 있습니다.\n",
      "\n",
      "2. **데이터 전처리**: 수집된 데이터는 모델이 이해할 수 있는 형태로 변환되어야 합니다. 이 과정에는 데이터 정리, 변환, 그리고 필요한 경우 데이터의 특징을 추출하는 작업이 포함됩니다.\n",
      "\n",
      "3. **모델 훈련**: 데이터를 바탕으로 모델을 훈련시킵니다. 이 과정에서는 모델이 데이터의 패턴을 인식하고 학습할 수 있도록 알고리즘을 적용합니다. 대표적인 알고리즘에는 신경망(뉴럴 네트워크)이 있습니다.\n",
      "\n",
      "4. **손실 함수**: 모델의 성능을 평가하기 위해 손실 함수(loss function)를 사용합니다. 손실 함수는 모델의 예측과 실제 값 사이의 차이를 측정합니다. 목표는 이 손실을 최소화하는 것입니다.\n",
      "\n",
      "5. **최적화**: 모델은 손실 함수를 최소화하기 위해 자동으로 파라미터를 조정합니다. 이 과정은 반복적으로 이루어지며, 최적의 파라미터를 찾기 위해 다양한 최적화 알고리즘(예: 경사 하강법)이 사용됩니다.\n",
      "\n",
      "6. **평가**: 모델의 성능을 평가합니다. 이를 통해 모델이 얼마나 잘 학습되었고, 새로운 데이터에 대해 얼마나 잘 작동하는지 확인합니다.\n",
      "\n",
      "7. **예측**: 학습된 모델을 사용하여 새로운 데이터에 대한 예측이나 분류를 수행합니다.\n",
      "\n",
      "예를 들어, 고양이와 강아지의 사진을 분류하는 모델을 만든다고 가정해 봅시다. \n",
      "\n",
      "- 많은 고양이와 강아지의 사진 데이터를 수집합니다.\n",
      "- 이 데이터를 통해 모델이 고양이와 강아지의 특징을 학습하도록 합니다.\n",
      "- 모델은 눈, 코, 귀, 털 등 고양이와 강아지를 구분할 수 있는 특징을 스스로 찾아냅니다.\n",
      "- 새로운 사진을 모델에 입력하면, 모델은 학습한 패턴을 바탕으로 이 사진이 고양이인지 강아지인지 분류할 수 있습니다.\n",
      "\n",
      "이처럼 인공지능 모델은 주어진 데이터를 통해 스스로 학습하고, 이를 바탕으로 새로운 상황에 대해 예측하거나 결정을 내릴 수 있습니다.\n"
     ]
    }
   ],
   "source": [
    "# chain 호출\n",
    "try:\n",
    "    result = chain.invoke({\"input\": \"인공지능 모델의 학습 원리\"})\n",
    "    print(type(result))\n",
    "    print(result.content)\n",
    "except Exception as e:\n",
    "    print(f\"오류 발생: {e}\")"
   ]
  },
  {
   "cell_type": "code",
   "execution_count": 19,
   "id": "9cfa12f9",
   "metadata": {},
   "outputs": [
    {
     "name": "stdout",
     "output_type": "stream",
     "text": [
      "<class 'str'>\n",
      "오류 발생: 'str' object has no attribute 'content'\n"
     ]
    }
   ],
   "source": [
    "# chain 호출\n",
    "try:\n",
    "    result = chain2.invoke({\"input\": \": LangChain의 Products(제품)는 어떤 것들이 있나요?\"})\n",
    "    print(type(result))\n",
    "    print(result.content)\n",
    "except Exception as e:\n",
    "    print(f\"오류 발생: {e}\")"
   ]
  },
  {
   "cell_type": "code",
   "execution_count": 20,
   "id": "c4a3945f",
   "metadata": {},
   "outputs": [
    {
     "name": "stdout",
     "output_type": "stream",
     "text": [
      "🔹 프롬프트: 겨울에 일어나는 대표적인 지구과학 현상은 태풍 발생입니다.\n",
      "🔹 모델 응답: 겨울에 태풍이 발생하는 것은 드문 일입니다. 태풍은 일반적으로 여름과 초가을에 발생합니다. 겨울에는 태풍이 발생하지 않는 것은 아니지만, 극히 드문 일입니다.\n",
      "\n",
      "태풍이 발생하기 위해서는 해수면 온도가 26.5도 이상이어야 합니다. 겨울에는 북반구에서 해수면 온도가 낮은 지역이 많아 태풍이 발생하기 어렵습니다. 또한, 겨울에는 상층 대기가 불안정하지 않아 태풍이 발달하기 어렵습니다.\n",
      "\n",
      "겨울에 태풍이 발생하는 경우는 주로 남반구에서 발생하며, 주로 호주나 남아프리카 근처에서 발생합니다. 이러한 태풍은 북반구에 영향을 미치지 않습니다.\n",
      "\n",
      "따라서, 겨울에 일어나는 대표적인 지구과학 현상은 태풍 발생이 아닌, 극한 날씨 현상이나 오로라 등이 있습니다.\n"
     ]
    }
   ],
   "source": [
    "from datetime import datetime\n",
    "from langchain_core.prompts import PromptTemplate\n",
    "from langchain_openai import ChatOpenAI\n",
    "\n",
    "\n",
    "# 계절을 결정하는 함수 (남반구/북반구 고려)\n",
    "def get_current_season(hemisphere=\"north\"):\n",
    "    month = datetime.now().month\n",
    "    \n",
    "    if hemisphere == \"north\":  # 북반구 (기본값)\n",
    "        if 3 <= month <= 5:\n",
    "            return \"봄\"\n",
    "        elif 6 <= month <= 8:\n",
    "            return \"여름\"\n",
    "        elif 9 <= month <= 11:\n",
    "            return \"가을\"\n",
    "        else:\n",
    "            return \"겨울\"\n",
    "    else:  # 남반구 (계절 반대)\n",
    "        if 3 <= month <= 5:\n",
    "            return \"가을\"\n",
    "        elif 6 <= month <= 8:\n",
    "            return \"겨울\"\n",
    "        elif 9 <= month <= 11:\n",
    "            return \"봄\"\n",
    "        else:\n",
    "            return \"여름\"\n",
    "\n",
    "# 프롬프트 템플릿 정의 (부분 변수 적용)\n",
    "prompt = PromptTemplate(\n",
    "    template=\"{season}에 일어나는 대표적인 지구과학 현상은 {phenomenon}입니다.\",\n",
    "    input_variables=[\"phenomenon\"],  # 사용자 입력 필요\n",
    "    partial_variables={\"season\": get_current_season(\"south\")}  # 동적으로 계절 값 할당\n",
    ")\n",
    "\n",
    "# OpenAI 모델 초기화\n",
    "#model = ChatOpenAI(model=\"gpt-4o-mini\", temperature=0.5)\n",
    "model = ChatOpenAI(\n",
    "    base_url=\"https://api.groq.com/openai/v1\",  # Groq API 엔드포인트\n",
    "    model=\"meta-llama/llama-4-scout-17b-16e-instruct\",\n",
    "    temperature=0.5\n",
    ")\n",
    "\n",
    "# 특정 계절의 현상 질의\n",
    "query = prompt.format(phenomenon=\"태풍 발생\")  # '태풍 발생'은 여름과 관련됨\n",
    "result = model.invoke(query)\n",
    "\n",
    "\n",
    "# 결과 출력\n",
    "print(f\"🔹 프롬프트: {query}\")\n",
    "print(f\"🔹 모델 응답: {result.content}\")"
   ]
  },
  {
   "cell_type": "code",
   "execution_count": 21,
   "id": "1049217a",
   "metadata": {},
   "outputs": [
    {
     "name": "stdout",
     "output_type": "stream",
     "text": [
      "input_variables=[] input_types={} partial_variables={'info': '1달러 = 1365.14원'} template='현재 {info} 기준으로 환율 정보를 알려드립니다. 현재 환율을 기준으로 한국경제에 미치는 영향 및 향후에 환율의 예상값에 대한 분석을 제공해 주세요.'\n"
     ]
    }
   ],
   "source": [
    "import requests\n",
    "from langchain_core.prompts import PromptTemplate\n",
    "from langchain_openai import ChatOpenAI\n",
    "\n",
    "# 실시간 환율을 가져오는 함수\n",
    "def get_exchange_rate():\n",
    "    response = requests.get(\"https://api.exchangerate-api.com/v4/latest/USD\")\n",
    "    data = response.json()\n",
    "    return f\"1달러 = {data['rates']['KRW']}원\"\n",
    "\n",
    "# {info} 변수에 API에서 받은 환율 정보를 동적으로 반영\n",
    "prompt = PromptTemplate(\n",
    "    template=\"현재 {info} 기준으로 환율 정보를 알려드립니다. 현재 환율을 기준으로 한국경제에 미치는 영향 및 향후에 환율의 예상값에 대한 분석을 제공해 주세요.\",\n",
    "    input_variables=[],  # 사용자 입력 없음\n",
    "    partial_variables={\"info\": get_exchange_rate()}  # API에서 가져온 데이터 자동 반영\n",
    ")\n",
    "print(prompt)"
   ]
  },
  {
   "cell_type": "code",
   "execution_count": 22,
   "id": "ef57e1cb",
   "metadata": {},
   "outputs": [
    {
     "name": "stdout",
     "output_type": "stream",
     "text": [
      "🔹 프롬프트: 현재 1달러 = 1365.14원 기준으로 환율 정보를 알려드립니다. 현재 환율을 기준으로 한국경제에 미치는 영향 및 향후에 환율의 예상값에 대한 분석을 제공해 주세요.\n",
      "🔹 모델 응답: ## 한국경제에 미치는 영향\n",
      "\n",
      "1.  **수출 증가**: 약한 원화 가치는 한국의 수출에 긍정적인 영향을 미칩니다. 원화 약세는 한국의 수출 상품을 해외에서 더 저렴하게 만들므로, 수출량이 증가하고 이는 경제 성장에 기여할 수 있습니다.\n",
      "\n",
      "2.  **수입 비용 증가**: 반면에, 원화 약세는 수입 비용을 증가시킵니다. 이는 원유, 전자 부품, 곡물 등 수입에 의존하는 산업에 부담을 가중시킬 수 있습니다. 수입 비용 증가는 물가 상승으로 이어질 수 있습니다.\n",
      "\n",
      "3.  **물가 상승**: 수입 비용 증가로 인해 물가가 상승할 수 있습니다. 이는 가계의 구매력을 감소시키고, 전반적인 경제에 부정적인 영향을 미칠 수 있습니다.\n",
      "\n",
      "4.  **외국인 투자**: 원화 약세는 외국인 투자자들에게 한국 시장에 대한 투자를 매력적으로 만들 수 있습니다. 저렴한 원화 가치는 외국인에게 한국 자산을 더 저렴하게 보이게 하여, 외국인 직접 투자(FDI)를 증가시킬 수 있습니다.\n",
      "\n",
      "## 향후 환율 예상\n",
      "\n",
      "*   **글로벌 경제 상황**: 미국 연방준비제도(Fed)의 금리 결정, 글로벌 무역 긴장, 주요 경제국의 경제 성장률 등이 원달러 환율에 영향을 미칩니다.\n",
      "\n",
      "*   **국내 경제 지표**: 한국의 경제 성장률, 물가 상승률, 무역 수지 등이 원화 가치에 영향을 줍니다.\n",
      "\n",
      "*   **원유 가격**: 원유 가격의 변동은 한국의 수입 비용에 직접적인 영향을 미치고, 이는 원달러 환율에 영향을 줄 수 있습니다.\n",
      "\n",
      "환율은 다양한 경제적 요인들에 의해 변동되며, 예측하기 어려운 변수입니다. 따라서, 경제 전문가들의 분석과 최신 경제 뉴스를 지속적으로 모니터링하는 것이 중요합니다.\n"
     ]
    }
   ],
   "source": [
    "# LLM 모델 설정 (GPT-4o-mini 사용)\n",
    "# model = ChatOpenAI(model=\"gpt-4o-mini\", temperature=0.0)\n",
    "model = ChatOpenAI(\n",
    "    base_url=\"https://api.groq.com/openai/v1\",  # Groq API 엔드포인트\n",
    "    model=\"meta-llama/llama-4-scout-17b-16e-instruct\",\n",
    "    temperature=0.5\n",
    ")\n",
    "\n",
    "# 모델에 프롬프트 전달 및 응답 받기\n",
    "response = model.invoke(prompt.format())\n",
    "\n",
    "# 결과 출력\n",
    "print(\"🔹 프롬프트:\", prompt.format())\n",
    "print(\"🔹 모델 응답:\", response.content)"
   ]
  },
  {
   "cell_type": "code",
   "execution_count": null,
   "id": "758c3b45",
   "metadata": {},
   "outputs": [],
   "source": []
  }
 ],
 "metadata": {
  "kernelspec": {
   "display_name": "langchain-basic-kGdHTiMZ-py3.12",
   "language": "python",
   "name": "python3"
  },
  "language_info": {
   "codemirror_mode": {
    "name": "ipython",
    "version": 3
   },
   "file_extension": ".py",
   "mimetype": "text/x-python",
   "name": "python",
   "nbconvert_exporter": "python",
   "pygments_lexer": "ipython3",
   "version": "3.12.7"
  }
 },
 "nbformat": 4,
 "nbformat_minor": 5
}
