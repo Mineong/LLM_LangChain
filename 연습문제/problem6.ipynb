{
 "cells": [
  {
   "cell_type": "markdown",
   "id": "8d757d9e",
   "metadata": {},
   "source": [
    "### 문제 6-1 : 조건부 분기가 있는 메뉴 추천 시스템 ( LangGraph 사용하기)"
   ]
  },
  {
   "cell_type": "code",
   "execution_count": null,
   "id": "ec37a675",
   "metadata": {},
   "outputs": [],
   "source": [
    "import os\n",
    "from dotenv import load_dotenv\n",
    "from langchain_groq import ChatGroq\n",
    "\n",
    "load_dotenv()\n",
    "\n",
    "llm = ChatGroq(\n",
    "    model=\"llama3-70b-8192\",\n",
    "    temperature=0.3,\n",
    "    api_key=os.getenv(\"GROQ_API_KEY\")\n",
    ")\n"
   ]
  },
  {
   "cell_type": "code",
   "execution_count": null,
   "id": "077ffcaa",
   "metadata": {},
   "outputs": [],
   "source": [
    "from langchain_community.document_loaders import TextLoader\n",
    "from langchain_community.vectorstores import FAISS\n",
    "from langchain_community.embeddings import OllamaEmbeddings\n",
    "from langchain.text_splitter import CharacterTextSplitter\n",
    "\n",
    "# 1. 문서 로드 및 분할\n",
    "loader = TextLoader(\"cafe_menu_data.txt\", encoding=\"utf-8\")\n",
    "docs = loader.load()\n",
    "text_splitter = CharacterTextSplitter(chunk_size=300, chunk_overlap=50)\n",
    "split_docs = text_splitter.split_documents(docs)\n",
    "\n",
    "# 2. 벡터화 및 DB 생성\n",
    "embeddings = OllamaEmbeddings(model=\"qwen2:0.5b\")  # or your preferred local embedding\n",
    "menu_db = FAISS.from_documents(split_docs, embeddings)\n"
   ]
  },
  {
   "cell_type": "code",
   "execution_count": null,
   "id": "48c9831a",
   "metadata": {},
   "outputs": [],
   "source": [
    "from langgraph.graph import StateGraph, END\n",
    "from langgraph.prebuilt import MessagesState\n",
    "from langchain_core.messages import HumanMessage, AIMessage\n",
    "from typing import TypedDict, Literal\n",
    "\n",
    "# 확장 상태 클래스\n",
    "class CafeState(MessagesState):\n",
    "    query_type: Literal[\"menu\", \"price\", \"recommend\", \"unknown\"] = \"unknown\"\n",
    "    search_results: list = []\n"
   ]
  },
  {
   "cell_type": "code",
   "execution_count": null,
   "id": "852d6a1e",
   "metadata": {},
   "outputs": [],
   "source": [
    "def classify_query(state: CafeState) -> str:\n",
    "    last_msg = state[\"messages\"][-1].content\n",
    "    if \"추천\" in last_msg:\n",
    "        return \"recommend\"\n",
    "    elif \"가격\" in last_msg or \"얼마\" in last_msg:\n",
    "        return \"price\"\n",
    "    elif \"메뉴\" in last_msg or \"카페라떼\" in last_msg:\n",
    "        return \"menu\"\n",
    "    else:\n",
    "        return \"unknown\"\n"
   ]
  },
  {
   "cell_type": "code",
   "execution_count": null,
   "id": "c16eb700",
   "metadata": {},
   "outputs": [],
   "source": [
    "import re\n",
    "from langchain_core.documents import Document\n",
    "\n",
    "def extract_menu_info(doc: Document) -> dict:\n",
    "    content = doc.page_content\n",
    "    name = doc.metadata.get(\"menu_name\", \"Unknown\")\n",
    "    price = re.search(r\"₩[\\d,]+\", content)\n",
    "    description = re.search(r\"설명:\\s*(.+?)(?:\\n|$)\", content, re.DOTALL)\n",
    "    \n",
    "    return {\n",
    "        \"name\": name,\n",
    "        \"price\": price.group(0) if price else \"가격 정보 없음\",\n",
    "        \"description\": description.group(1).strip() if description else \"설명 없음\"\n",
    "    }\n"
   ]
  },
  {
   "cell_type": "code",
   "execution_count": null,
   "id": "f191fb16",
   "metadata": {},
   "outputs": [],
   "source": [
    "def handle_menu_query(state: CafeState):\n",
    "    q = state[\"messages\"][-1].content\n",
    "    results = menu_db.similarity_search(q, k=3)\n",
    "    return {**state, \"query_type\": \"menu\", \"search_results\": results}\n",
    "\n",
    "def handle_price_query(state: CafeState):\n",
    "    results = menu_db.similarity_search(\"메뉴 가격\", k=3)\n",
    "    return {**state, \"query_type\": \"price\", \"search_results\": results}\n",
    "\n",
    "def handle_recommend_query(state: CafeState):\n",
    "    q = state[\"messages\"][-1].content\n",
    "    results = menu_db.similarity_search(q, k=2)\n",
    "    if not results:\n",
    "        results = menu_db.similarity_search(\"인기 메뉴\", k=3)\n",
    "    return {**state, \"query_type\": \"recommend\", \"search_results\": results}\n",
    "\n",
    "def handle_unknown_query(state: CafeState):\n",
    "    return {**state, \"query_type\": \"unknown\", \"search_results\": []}\n"
   ]
  },
  {
   "cell_type": "code",
   "execution_count": null,
   "id": "2d25d545",
   "metadata": {},
   "outputs": [],
   "source": [
    "def generate_response(state: CafeState):\n",
    "    query = state[\"messages\"][-1].content\n",
    "    results = state[\"search_results\"]\n",
    "    query_type = state[\"query_type\"]\n",
    "\n",
    "    if results:\n",
    "        infos = [extract_menu_info(doc) for doc in results]\n",
    "        summary = \"\\n\\n\".join([f\"- {i['name']}: {i['price']} / {i['description']}\" for i in infos])\n",
    "    else:\n",
    "        summary = \"죄송합니다. 관련 메뉴 정보를 찾지 못했습니다.\"\n",
    "\n",
    "    system_reply = f\"[{query_type.upper()} 응답]\\n{summary}\"\n",
    "    return {\n",
    "        \"messages\": state[\"messages\"] + [AIMessage(content=system_reply)],\n",
    "        \"query_type\": query_type,\n",
    "        \"search_results\": results\n",
    "    }\n"
   ]
  },
  {
   "cell_type": "code",
   "execution_count": null,
   "id": "436e909a",
   "metadata": {},
   "outputs": [],
   "source": [
    "workflow = StateGraph(CafeState)\n",
    "\n",
    "# 노드 등록\n",
    "workflow.add_node(\"classify\", classify_query)\n",
    "workflow.add_node(\"menu\", handle_menu_query)\n",
    "workflow.add_node(\"price\", handle_price_query)\n",
    "workflow.add_node(\"recommend\", handle_recommend_query)\n",
    "workflow.add_node(\"unknown\", handle_unknown_query)\n",
    "workflow.add_node(\"respond\", generate_response)\n",
    "\n",
    "# 흐름 정의\n",
    "workflow.set_entry_point(\"classify\")\n",
    "workflow.add_conditional_edges(\"classify\", lambda s: classify_query(s), {\n",
    "    \"menu\": \"menu\",\n",
    "    \"price\": \"price\",\n",
    "    \"recommend\": \"recommend\",\n",
    "    \"unknown\": \"unknown\"\n",
    "})\n",
    "workflow.add_edge(\"menu\", \"respond\")\n",
    "workflow.add_edge(\"price\", \"respond\")\n",
    "workflow.add_edge(\"recommend\", \"respond\")\n",
    "workflow.add_edge(\"unknown\", \"respond\")\n",
    "workflow.add_edge(\"respond\", END)\n",
    "\n",
    "graph = workflow.compile()\n"
   ]
  },
  {
   "cell_type": "code",
   "execution_count": null,
   "id": "fd021888",
   "metadata": {},
   "outputs": [],
   "source": [
    "inputs = {\n",
    "    \"messages\": [HumanMessage(content=\"카페라떼랑 어울리는 메뉴 추천해줘\")]\n",
    "}\n",
    "\n",
    "final_state = graph.invoke(inputs)\n",
    "print(\"\\n🤖 최종 응답:\\n\")\n",
    "print(final_state[\"messages\"][-1].content)\n"
   ]
  }
 ],
 "metadata": {
  "kernelspec": {
   "display_name": "langchain-basic-kGdHTiMZ-py3.12",
   "language": "python",
   "name": "python3"
  },
  "language_info": {
   "codemirror_mode": {
    "name": "ipython",
    "version": 3
   },
   "file_extension": ".py",
   "mimetype": "text/x-python",
   "name": "python",
   "nbconvert_exporter": "python",
   "pygments_lexer": "ipython3",
   "version": "3.12.7"
  }
 },
 "nbformat": 4,
 "nbformat_minor": 5
}
