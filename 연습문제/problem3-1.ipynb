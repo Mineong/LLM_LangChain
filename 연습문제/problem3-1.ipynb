{
 "cells": [
  {
   "cell_type": "markdown",
   "id": "91d216fe",
   "metadata": {},
   "source": [
    "## 문제 3-1 :  콘텐츠분쟁해결 RAG 시스템 - 간단 실습 가이드\n"
   ]
  },
  {
   "cell_type": "markdown",
   "id": "9b93158c",
   "metadata": {},
   "source": [
    "### 1단계: 문서 분할 설정 "
   ]
  },
  {
   "cell_type": "code",
   "execution_count": 18,
   "id": "24c4539f",
   "metadata": {},
   "outputs": [
    {
     "name": "stderr",
     "output_type": "stream",
     "text": [
      "<>:4: SyntaxWarning: invalid escape sequence '\\m'\n",
      "<>:4: SyntaxWarning: invalid escape sequence '\\m'\n",
      "C:\\Users\\user\\AppData\\Local\\Temp\\ipykernel_2012\\691421458.py:4: SyntaxWarning: invalid escape sequence '\\m'\n",
      "  pdf_path = \"C:\\mylangchain\\langchain_basic\\data\\콘텐츠분쟁해결_사례.pdf\"\n"
     ]
    },
    {
     "name": "stdout",
     "output_type": "stream",
     "text": [
      "분할된 청크 수: 104\n",
      "콘텐츠분쟁조정 법리 연구 2부\n",
      "- 타 분쟁조정사례 조사 -\n"
     ]
    }
   ],
   "source": [
    "from langchain_community.document_loaders import PyPDFLoader\n",
    "from langchain.text_splitter import RecursiveCharacterTextSplitter\n",
    "\n",
    "pdf_path = \"C:\\mylangchain\\langchain_basic\\data\\콘텐츠분쟁해결_사례.pdf\"\n",
    "\n",
    "loader = PyPDFLoader(pdf_path)\n",
    "documents = loader.load()\n",
    "\n",
    "text_splitter = RecursiveCharacterTextSplitter(\n",
    "    chunk_size=1500,\n",
    "    chunk_overlap=300,\n",
    "    separators=[\n",
    "        \"\\n【사건개요】\",\n",
    "        \"\\n【쟁점사항】\",\n",
    "        \"\\n【처리경위】\",\n",
    "        \"\\n【처리결과】\",\n",
    "        \"\\n■\", \"\\n\\n\", \"\\n\", \".\", \" \", \"\"\n",
    "    ]\n",
    ")\n",
    "\n",
    "split_docs = text_splitter.split_documents(documents)\n",
    "\n",
    "print(f\"분할된 청크 수: {len(split_docs)}\")\n",
    "print(split_docs[0].page_content[:500])\n"
   ]
  },
  {
   "cell_type": "markdown",
   "id": "22e9b137",
   "metadata": {},
   "source": [
    "### 2단계: 임베딩 모델 설정 "
   ]
  },
  {
   "cell_type": "code",
   "execution_count": 19,
   "id": "0e7d6cff",
   "metadata": {},
   "outputs": [],
   "source": [
    "from langchain_openai import OpenAIEmbeddings\n",
    "from langchain.vectorstores import FAISS\n",
    "\n",
    "embedding = OpenAIEmbeddings(\n",
    "    model=\"text-embedding-3-large\",\n",
    "    dimensions=1536\n",
    ")\n",
    "\n",
    "vectorstore = FAISS.from_documents(split_docs, embedding)\n",
    "\n",
    "vectorstore.save_local(\"rag_index/contents_law\")\n"
   ]
  },
  {
   "cell_type": "code",
   "execution_count": 20,
   "id": "f9cd8477",
   "metadata": {},
   "outputs": [],
   "source": [
    "vectorstore = FAISS.load_local(\n",
    "    \"rag_index/contents_law\",\n",
    "    embeddings=embedding,\n",
    "    allow_dangerous_deserialization=True  # ✔ 반드시 추가!\n",
    ")\n"
   ]
  },
  {
   "cell_type": "markdown",
   "id": "c7e2da1d",
   "metadata": {},
   "source": [
    "### 3단계: 검색기 설정 "
   ]
  },
  {
   "cell_type": "code",
   "execution_count": 21,
   "id": "32b5ed89",
   "metadata": {},
   "outputs": [],
   "source": [
    "retriever = vectorstore.as_retriever(\n",
    "    search_type=\"similarity\",     # 또는 \"mmr\" (다양성 고려)\n",
    "    search_kwargs={\"k\": 5}        # 관련 문서 5개 반환\n",
    ")\n"
   ]
  },
  {
   "cell_type": "code",
   "execution_count": 22,
   "id": "e8d38f26",
   "metadata": {},
   "outputs": [
    {
     "name": "stdout",
     "output_type": "stream",
     "text": [
      "\n",
      "--- 관련 문서 1 ---\n",
      "2007_ 온라인통신교육서비스 대금 환급 요구2················································· 5 5\n",
      "2007_ 인터넷교육서비스 중도해지 요구···························································· 5 7\n",
      "2008_ 온라인 통신교육서비스 이용료 환급 요구·············································· 5 9\n",
      "2008_ 온라인통신교육서비스 이용료 환급 요구2·············································· 6 1\n",
      "2009_ 인터넷 학습사이트 가입 해지에 따른 대금 환급 요구··························· 6 3\n",
      "2010_ 화상불량으로 중도 해지한 인터넷강의 환급 요구·································· 6 5\n",
      "2010_ 인터넷 화상 강의 수강계약 해지에 따른 환급 요구········\n",
      "\n",
      "--- 관련 문서 2 ---\n",
      "콘텐츠분쟁조정 법리 연구 2부 - 타 분쟁조정사례 조사 -\n",
      "88■ 2-다 전자거래분쟁조정위원회 조정결정례\n",
      "2008_온라인 동영상 강의 계약 해지 청구\n",
      "【사건개요 】\n",
      "신청인은 2008. 4. 2. 피신청인의 사이트에서 강의기간 120일 일시정지 30일을 계약내용으로 하는 \n",
      "온라인 강좌를 2008. 4. 12일부터 시작하기로 458,500 원에 계약하였다 . 그러나 신청인 개인의 사정\n",
      "으로 강의 시작일을 연기하였다 . 5. 12.이후로도 강의를 듣지 못한 신청인은 2008. 6. 23. 피신청인 \n",
      "사이트 Q&A게시판을 통해 계약 해지 의사를 표명하였으나 피신청인은 웹사이트 수강료 환불기준은 \n",
      "강의를 수강한 지 일주일 이내에 신청한 강의의 수강률이 1/3미만일 경우에 한다고 규정하는 것을 \n",
      "근거로 하여 환불기간이 지났음을 이유로 환불이 불가능함을 주장하면서 분쟁이 발생하였다 .\n",
      "【쟁점사항 】\n",
      " · 수강하지 않은 온라인 강좌에 대하여 청약철회 기간을 경과를 이유로 한 청약철회 거부가 \n",
      "정당\n",
      "\n",
      "--- 관련 문서 3 ---\n",
      "2. 이러닝\n",
      "89상기 내용을 살펴보면 , 신청인은 청약철회 기간을 지났으므로 위 계약의 청약을 철회할 수\n",
      "는 없는 것으로 보인다 . 피신청인은 위 계약에 따라 정해진 기간 내에 신청인이 접근하여 온\n",
      "라인 강좌를 수강할 수 있는 여건을 제공하는 등 피신청인의 계약상 의무는 이행된 것으로 \n",
      "보이며 , 피신청인의 약관에 따른 환불기준에 의하더라도 신청인은 환불에 필요한 요건을 충\n",
      "족하지 못하여 신청인은 계약상 위 계약을 해지 할 수 있는 법적권한이 없다 하겠다 .\n",
      "다만, 피신청인의 환불기준이 웹사이트에서 Q&A 방식으로 제공되고 있어 신청인 등이 쉽게 \n",
      "인식하기 어려운 점이 인정되고 , 신청인이 온라인 동영상 강의를 전혀 이용하지 않았다면 \n",
      "그것이 신청인의 귀책사유에 따른 것이라고 하더라도 신의성실의 원칙상 전혀 환불하지 않\n",
      "는 것은 타당하지 않다고 판단된다 .\n",
      "이에, 전자거래분쟁조정의 성격상 당사자의 상호 양보를 통한 신속한 분쟁 해결 도모에 그 \n",
      "목적이 있다는 점을 고려하여 , 당사자\n",
      "\n",
      "--- 관련 문서 4 ---\n",
      "콘텐츠분쟁조정 법리 연구 2부 - 타 분쟁조정사례 조사 -\n",
      "84■ 2-다 전자거래분쟁조정위원회 조정결정례\n",
      "2008_온라인 동영상 강의 계약 해지 청구\n",
      "【사건개요 】\n",
      "신청인은 2008. 4. 25 피신청인과 전화상담을 통해 오프라인상의 10급 공무원 시험 대비 수험 교재를 \n",
      "제공하고 본 건 교재에 따른 동영상 강의를 수강하기로 하면서 대금 480,000 원을 12개월 할부로 \n",
      "신용카드로 지급하기로 결제하였다 . 그러나 2008. 5. 23. 월 8,000원의 할부수수료가 발생하고 , \n",
      "자신에게는 10급 공무원 시험 응시자격이 없음을 이유로 본 건 계약의 해지를 청구하고 교재를 피신청\n",
      "인에게 택배로 반송하였다 .\n",
      "신청인은 강의를 하나도 듣지 않았고 , 교재도 보지 않고 훼손하지 않은 채 피신청인측에 보냈다는 \n",
      "이유로 환불을 요청하고 있으나 피신청인 측에서는 계약을 성실이 이행하였고 , 신청인이 교재를 1개월\n",
      "간 소지하면서 세트로 제작된 교재로서의 가치를 상실한 상태인 점, 2008. 4\n",
      "\n",
      "--- 관련 문서 5 ---\n",
      "2. 이러닝\n",
      "65■ 2-가 한국소비자원 조정결정례\n",
      "2010_화상불량으로 중도 해지한 인터넷강의 환급 요구\n",
      "【사건개요 】\n",
      "신청인은 2008. 12. 30 신청인 자녀의 인터넷 화상교육을 위해 피신청인과 2년 약정으로 대금 \n",
      "2,1660,000 을 신용카드로 결제하여 2008. 12. 4. 부터 화상교육을 시작하였다 . 그런데 아이디 접속\n",
      "이 안 되어 2-3일 기다리는 등 시스템이 불안정하여 화상교육을 총 16회밖에 이용하지 못하였고 , \n",
      "이러한 불만이 시정되지 않음을 이유로 2009. 4. 21. 내용증명으로 최종 해지 의사를 표시하였다 . \n",
      "그러나 피신 청인은 신청인에게 화상불량 이나 서비스 불량을 인정한 사실이 없고, 실제 사용자인 \n",
      "신청인의 자녀가 2008. 12. 3 부터 2009. 4. 27.까지 총 102회의 콘텐츠 이용이 확인되었으며 , \n",
      "이 기간 동안 인터넷 동영상 교육을 충분히 제공하였으므로 그 기간 동안의 사용료와 위약금을 합한 \n",
      "983,000 원을 입금하면 카드대금\n"
     ]
    }
   ],
   "source": [
    "question = \"온라인 강의를 중도 해지하려는데 위약금이 과도합니다. 어떻게 해결할 수 있나요?\"\n",
    "\n",
    "docs = retriever.get_relevant_documents(question)\n",
    "\n",
    "for i, doc in enumerate(docs):\n",
    "    print(f\"\\n--- 관련 문서 {i+1} ---\")\n",
    "    print(doc.page_content[:500])  # 각 문서 일부 출력\n"
   ]
  },
  {
   "cell_type": "markdown",
   "id": "8c45f495",
   "metadata": {},
   "source": [
    "### 4단계: LLM 설정 "
   ]
  },
  {
   "cell_type": "code",
   "execution_count": 23,
   "id": "d47c3fe6",
   "metadata": {},
   "outputs": [],
   "source": [
    "from langchain_openai import ChatOpenAI\n",
    "\n",
    "llm = ChatOpenAI(\n",
    "    base_url=\"https://api.groq.com/openai/v1\",  # OpenAI 쓸 경우 생략\n",
    "    model=\"meta-llama/llama-4-scout-17b-16e-instruct\",\n",
    "    temperature=0.2,\n",
    "    max_tokens=2000\n",
    ")\n"
   ]
  },
  {
   "cell_type": "markdown",
   "id": "ac92095c",
   "metadata": {},
   "source": [
    "### 5단계: 법률 자문 프롬프트 작성"
   ]
  },
  {
   "cell_type": "code",
   "execution_count": 24,
   "id": "345220c2",
   "metadata": {},
   "outputs": [],
   "source": [
    "from langchain.prompts import PromptTemplate\n",
    "\n",
    "prompt_template = PromptTemplate(\n",
    "    input_variables=[\"context\", \"question\"],\n",
    "    template=\"\"\"\n",
    "당신은 콘텐츠 분야 전문 법률 자문사입니다. \n",
    "아래 분쟁조정 사례들을 바탕으로 정확하고 전문적인 법률 조언을 제공해주세요.\n",
    "\n",
    "관련 분쟁사례:\n",
    "{context}\n",
    "\n",
    "상담 내용: {question}\n",
    "\n",
    "답변 가이드라인:\n",
    "1. 제시된 사례들을 근거로 답변하세요\n",
    "2. 관련 법령이나 조항이 있다면 명시하세요\n",
    "3. 비슷한 사례의 처리경위와 결과를 참고하여 설명하세요\n",
    "4. 실무적 해결방안을 단계별로 제시하세요\n",
    "5. 사례에 없는 내용은 \"제시된 사례집에서는 확인할 수 없습니다\"라고 명시하세요\n",
    "\n",
    "전문 법률 자문:\n",
    "\"\"\"\n",
    ")\n"
   ]
  },
  {
   "cell_type": "markdown",
   "id": "3d83dcc3",
   "metadata": {},
   "source": [
    "### 6단계: QA 체인 생성"
   ]
  },
  {
   "cell_type": "code",
   "execution_count": 25,
   "id": "80710a08",
   "metadata": {},
   "outputs": [],
   "source": [
    "from langchain.chains import RetrievalQA\n",
    "\n",
    "qa_chain = RetrievalQA.from_chain_type(\n",
    "    llm=llm,\n",
    "    chain_type=\"stuff\",\n",
    "    retriever=retriever,\n",
    "    return_source_documents=True,\n",
    "    chain_type_kwargs={\"prompt\": prompt_template}\n",
    ")\n"
   ]
  },
  {
   "cell_type": "markdown",
   "id": "75229fd0",
   "metadata": {},
   "source": [
    "### 7단계: 테스트 질문 작성 "
   ]
  },
  {
   "cell_type": "code",
   "execution_count": 26,
   "id": "05cf0516",
   "metadata": {},
   "outputs": [],
   "source": [
    "test_questions = [\n",
    "    \"온라인 게임에서 시스템 오류로 아이템이 사라졌는데, 게임회사가 복구를 거부하고 있습니다. 어떻게 해결할 수 있나요?\",\n",
    "    \"인터넷 강의를 중도 해지하려고 하는데 과도한 위약금을 요구받고 있습니다. 정당한가요?\",\n",
    "    \"무료체험 후 자동으로 유료전환되어 요금이 청구되었습니다. 환불 가능한가요?\",\n",
    "    \"미성년자가 부모 동의 없이 게임 아이템을 구매했습니다. 환불받을 수 있는 방법이 있나요?\",\n",
    "    \"온라인 교육 서비스가 광고와 다르게 제공되어 계약을 해지하고 싶습니다. 가능한가요?\"\n",
    "]\n"
   ]
  },
  {
   "cell_type": "markdown",
   "id": "5fd99963",
   "metadata": {},
   "source": [
    "### 8단계: 분쟁 유형 분류 함수 ( 선택 )"
   ]
  },
  {
   "cell_type": "code",
   "execution_count": 27,
   "id": "14167486",
   "metadata": {},
   "outputs": [],
   "source": [
    "def classify_dispute_type(query):\n",
    "    game_keywords = [\"게임\", \"아이템\", \"계정\", \"캐릭터\", \"레벨\", \"길드\", \"온라인게임\"]\n",
    "    elearning_keywords = [\"강의\", \"온라인교육\", \"이러닝\", \"수강\", \"환불\", \"화상교육\"]\n",
    "    web_keywords = [\"웹사이트\", \"무료체험\", \"자동결제\", \"구독\", \"사이트\"]\n",
    "    \n",
    "    query_lower = query.lower()\n",
    "    \n",
    "    if any(keyword in query_lower for keyword in game_keywords):\n",
    "        return \"게임\"\n",
    "    elif any(keyword in query_lower for keyword in elearning_keywords):\n",
    "        return \"이러닝\"\n",
    "    elif any(keyword in query_lower for keyword in web_keywords):\n",
    "        return \"웹콘텐츠\"\n",
    "    else:\n",
    "        return \"기타\"\n"
   ]
  }
 ],
 "metadata": {
  "kernelspec": {
   "display_name": "langchain-basic-kGdHTiMZ-py3.12",
   "language": "python",
   "name": "python3"
  },
  "language_info": {
   "codemirror_mode": {
    "name": "ipython",
    "version": 3
   },
   "file_extension": ".py",
   "mimetype": "text/x-python",
   "name": "python",
   "nbconvert_exporter": "python",
   "pygments_lexer": "ipython3",
   "version": "3.12.7"
  }
 },
 "nbformat": 4,
 "nbformat_minor": 5
}
