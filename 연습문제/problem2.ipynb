{
 "cells": [
  {
   "cell_type": "markdown",
   "metadata": {},
   "source": [
    "### 문제 2-1 : 콤마 구분 리스트 파서 활용"
   ]
  },
  {
   "cell_type": "code",
   "execution_count": 2,
   "metadata": {},
   "outputs": [
    {
     "name": "stdout",
     "output_type": "stream",
     "text": [
      "gs\n"
     ]
    }
   ],
   "source": [
    "from dotenv import load_dotenv\n",
    "import os\n",
    "# .env 파일을 불러와서 환경 변수로 설정\n",
    "load_dotenv()\n",
    "\n",
    "OPENAI_API_KEY = os.getenv(\"OPENAI_API_KEY\")\n",
    "print(OPENAI_API_KEY[:2])"
   ]
  },
  {
   "cell_type": "code",
   "execution_count": 14,
   "metadata": {},
   "outputs": [
    {
     "name": "stdout",
     "output_type": "stream",
     "text": [
      "=== 한국 추천 장소/활동 리스트 ===\n",
      "\n",
      "[음식] → ['서울의 N서울타워', '경주의 황남빵마을', '부산의 자갈치시장', '경기도의 양평시장', '전북의 전주한옥마을']\n",
      "[영화] → ['부산국제영화제', '영화진흥위원회', '한국영화박물관', '충무로 영화 거리', 'CGV']\n",
      "[스포츠] → ['서울올림픽공원', '수원월드컵경기장', '부산아시아드주경기장', '강릉올림픽파크', '제주월드컵경기장']\n",
      "[전통문화] → ['종묘', '창덕궁', '국립무형유산원', '강릉 한옥마을', '전주 한벽루']\n"
     ]
    }
   ],
   "source": [
    "import os\n",
    "from langchain_core.output_parsers import CommaSeparatedListOutputParser\n",
    "from langchain_core.prompts import PromptTemplate\n",
    "from langchain_core.runnables import RunnableSequence\n",
    "from langchain_openai import ChatOpenAI\n",
    "\n",
    "# 출력 파서 정의\n",
    "output_parser = CommaSeparatedListOutputParser()\n",
    "format_instructions = output_parser.get_format_instructions()\n",
    "\n",
    "# 프롬프트 템플릿 설정\n",
    "prompt = PromptTemplate(\n",
    "    input_variables=[\"subject\"],\n",
    "    template=\"\"\"\n",
    "사용자가 관심있는 분야는 '{subject}'입니다.\n",
    "이 분야와 관련된 한국의 유명한 장소나 활동 5가지를 콤마로 구분하여 추천해 주세요.\n",
    "\n",
    "{format_instructions}\n",
    "\"\"\",\n",
    "    partial_variables={\"format_instructions\": format_instructions}\n",
    ")\n",
    "\n",
    "# Groq 기반 LLM 설정\n",
    "model = ChatOpenAI(\n",
    "    base_url=\"https://api.groq.com/openai/v1\",\n",
    "    model=\"meta-llama/llama-4-scout-17b-16e-instruct\",\n",
    "    temperature=0.7\n",
    ")\n",
    "\n",
    "# 체인 구성 (프롬프트 → 모델 → 파서)\n",
    "chain: RunnableSequence = prompt | model | output_parser\n",
    "\n",
    "# 테스트 실행\n",
    "test_subjects = [\"음식\", \"영화\", \"스포츠\", \"전통문화\"]\n",
    "\n",
    "print(\"=== 한국 추천 장소/활동 리스트 ===\\n\")\n",
    "\n",
    "for subject in test_subjects:\n",
    "    try:\n",
    "        result = chain.invoke({\"subject\": subject})\n",
    "        print(f\"[{subject}] → {result}\")\n",
    "    except Exception as e:\n",
    "        print(f\"[{subject}] 처리 중 오류: {e}\")\n"
   ]
  },
  {
   "cell_type": "markdown",
   "metadata": {},
   "source": [
    "### 문제 2-2 : 영화 리뷰 감정 분석기\n"
   ]
  },
  {
   "cell_type": "code",
   "execution_count": 18,
   "metadata": {},
   "outputs": [
    {
     "name": "stdout",
     "output_type": "stream",
     "text": [
      "리뷰: \"이 영화 정말 재미없어요. 시간 낭비였습니다.\"\n",
      "→ 감정: Sentiment.부정\n",
      "\n",
      "리뷰: \"배우들의 연기가 훌륭하고 스토리도 감동적이었어요!\"\n",
      "→ 감정: Sentiment.긍정\n",
      "\n",
      "리뷰: \"그냥 무난한 영화였습니다. 나쁘지도 좋지도 않아요.\"\n",
      "→ 감정: Sentiment.보통\n",
      "\n"
     ]
    }
   ],
   "source": [
    "from dotenv import load_dotenv\n",
    "import os\n",
    "from langchain_openai import ChatOpenAI\n",
    "from langchain_core.prompts import PromptTemplate\n",
    "from langchain.output_parsers import EnumOutputParser, OutputFixingParser\n",
    "from langchain_core.runnables import RunnableSequence\n",
    "from enum import Enum\n",
    "\n",
    "# .env 파일 로드\n",
    "load_dotenv()\n",
    "\n",
    "# 감정 Enum 정의\n",
    "class Sentiment(str, Enum):\n",
    "    긍정 = \"긍정\"\n",
    "    부정 = \"부정\"\n",
    "    보통 = \"보통\"\n",
    "\n",
    "# 파서 정의\n",
    "enum_parser = EnumOutputParser(enum=Sentiment)\n",
    "\n",
    "# LLM 설정 (env의 OPENAI_API_KEY 사용)\n",
    "llm = ChatOpenAI(\n",
    "    base_url=\"https://api.groq.com/openai/v1\",\n",
    "    model=\"meta-llama/llama-4-scout-17b-16e-instruct\",\n",
    "    temperature=0\n",
    ")\n",
    "\n",
    "# 파서 고도화 (출력 실패 시 수정)\n",
    "fixing_parser = OutputFixingParser.from_llm(parser=enum_parser, llm=llm)\n",
    "\n",
    "# 프롬프트 구성\n",
    "prompt = PromptTemplate(\n",
    "    input_variables=[\"review\"],\n",
    "    partial_variables={\"format_instructions\": enum_parser.get_format_instructions()},\n",
    "    template=\"\"\"\n",
    "다음 영화 리뷰를 읽고 감정을 분류하세요.\n",
    "감정은 반드시 다음 중 하나로만 답하세요: 긍정, 부정, 보통\n",
    "\n",
    "리뷰: \"{review}\"\n",
    "\n",
    "{format_instructions}\n",
    "\"\"\"\n",
    ")\n",
    "\n",
    "# 체인 구성\n",
    "chain: RunnableSequence = prompt | llm | fixing_parser\n",
    "\n",
    "# 테스트\n",
    "test_reviews = [\n",
    "    \"이 영화 정말 재미없어요. 시간 낭비였습니다.\",\n",
    "    \"배우들의 연기가 훌륭하고 스토리도 감동적이었어요!\",\n",
    "    \"그냥 무난한 영화였습니다. 나쁘지도 좋지도 않아요.\"\n",
    "]\n",
    "\n",
    "for r in test_reviews:\n",
    "    result = chain.invoke({\"review\": r})\n",
    "    print(f\"리뷰: \\\"{r}\\\"\\n→ 감정: {result}\\n\")\n"
   ]
  },
  {
   "cell_type": "markdown",
   "metadata": {},
   "source": [
    "### 문제 2-3: 학생 정보 구조화 시스템"
   ]
  },
  {
   "cell_type": "code",
   "execution_count": 23,
   "metadata": {},
   "outputs": [
    {
     "name": "stdout",
     "output_type": "stream",
     "text": [
      "구조화된 학생 정보:\n",
      "{\n",
      "    \"name\": \"김민수\",\n",
      "    \"age\": 22,\n",
      "    \"major\": \"컴퓨터공학\",\n",
      "    \"hobbies\": [\n",
      "        \"게임하기\",\n",
      "        \"영화보기\",\n",
      "        \"코딩\"\n",
      "    ],\n",
      "    \"goal\": \"훌륭한 개발자가 되는 것\"\n",
      "}\n"
     ]
    }
   ],
   "source": [
    "from dotenv import load_dotenv\n",
    "import os\n",
    "from langchain_openai import ChatOpenAI\n",
    "from langchain_core.prompts import PromptTemplate\n",
    "from langchain.output_parsers import PydanticOutputParser\n",
    "from langchain_core.runnables import RunnableSequence\n",
    "from pydantic import BaseModel, Field\n",
    "from typing import List\n",
    "\n",
    "# 환경 변수 로드\n",
    "load_dotenv()\n",
    "\n",
    "# Pydantic 모델 정의\n",
    "class StudentInfo(BaseModel):\n",
    "    name: str = Field(..., description=\"학생의 이름\")\n",
    "    age: int = Field(..., description=\"학생의 나이\")\n",
    "    major: str = Field(..., description=\"학생의 전공\")\n",
    "    hobbies: List[str] = Field(..., description=\"학생의 취미 리스트\")\n",
    "    goal: str = Field(..., description=\"학생의 목표\")\n",
    "\n",
    "# 출력 파서 생성\n",
    "parser = PydanticOutputParser(pydantic_object=StudentInfo)\n",
    "\n",
    "# 프롬프트 정의\n",
    "prompt = PromptTemplate(\n",
    "    input_variables=[\"intro\"],\n",
    "    partial_variables={\"format_instructions\": parser.get_format_instructions()},\n",
    "    template=\"\"\"\n",
    "다음 자기소개 문장을 읽고 이름(name), 나이(age), 전공(major), 취미(hobbies), 목표(goal)를 추출하세요.\n",
    "{format_instructions}\n",
    "\n",
    "자기소개:\n",
    "\"{intro}\"\n",
    "\"\"\"\n",
    ")\n",
    "\n",
    "# LLM (Groq API 사용)\n",
    "llm = ChatOpenAI(\n",
    "    base_url=\"https://api.groq.com/openai/v1\",\n",
    "    model=\"meta-llama/llama-4-scout-17b-16e-instruct\",\n",
    "    temperature=0\n",
    ")\n",
    "\n",
    "# 체인 구성\n",
    "chain: RunnableSequence = prompt | llm | parser\n",
    "\n",
    "# 테스트 입력\n",
    "intro_text = \"안녕하세요! 저는 김민수이고 22살입니다. 컴퓨터공학을 전공하고 있어요. 취미로는 게임하기, 영화보기, 코딩을 좋아합니다. 앞으로 훌륭한 개발자가 되는 것이 목표입니다.\"\n",
    "\n",
    "# 실행\n",
    "try:\n",
    "    result = chain.invoke({\"intro\": intro_text})\n",
    "    print(\"구조화된 학생 정보:\")\n",
    "    print(result.model_dump_json(indent=4))\n",
    "except Exception as e:\n",
    "    print(f\"오류 발생: {e}\")\n"
   ]
  },
  {
   "cell_type": "markdown",
   "metadata": {},
   "source": [
    "### 문제 2-4 : 여행 계획 분석기"
   ]
  },
  {
   "cell_type": "code",
   "execution_count": 25,
   "metadata": {},
   "outputs": [
    {
     "name": "stdout",
     "output_type": "stream",
     "text": [
      "구조화된 여행 계획:\n",
      "{\n",
      "    \"destination\": \"부산\",\n",
      "    \"duration\": \"2박3일\",\n",
      "    \"budget\": \"30만원\",\n",
      "    \"rating\": \"4점\",\n",
      "    \"activities\": \"해운대 바다구경, 자갈치시장 회, 감천문화마을 구경\"\n",
      "}\n"
     ]
    }
   ],
   "source": [
    "from dotenv import load_dotenv\n",
    "import os\n",
    "from langchain_openai import ChatOpenAI\n",
    "from langchain_core.prompts import PromptTemplate\n",
    "from langchain.output_parsers import StructuredOutputParser, ResponseSchema\n",
    "from langchain_core.runnables import RunnableSequence\n",
    "\n",
    "# 환경 변수 로드\n",
    "load_dotenv()\n",
    "\n",
    "# 파싱할 필드 정의 (ResponseSchema)\n",
    "schemas = [\n",
    "    ResponseSchema(name=\"destination\", description=\"여행한 장소 (도시 또는 지역명)\"),\n",
    "    ResponseSchema(name=\"duration\", description=\"여행 기간 (예: 2박 3일)\"),\n",
    "    ResponseSchema(name=\"budget\", description=\"총 예산 또는 지출 (예: 30만원)\"),\n",
    "    ResponseSchema(name=\"rating\", description=\"여행 만족도 (1~5점 중 하나)\"),\n",
    "    ResponseSchema(name=\"activities\", description=\"주요 활동 리스트 (예: 관광, 먹거리 등)\")\n",
    "]\n",
    "\n",
    "# StructuredOutputParser 생성\n",
    "parser = StructuredOutputParser.from_response_schemas(schemas)\n",
    "\n",
    "# 프롬프트 템플릿 정의\n",
    "prompt = PromptTemplate(\n",
    "    input_variables=[\"text\"],\n",
    "    partial_variables={\"format_instructions\": parser.get_format_instructions()},\n",
    "    template=\"\"\"\n",
    "다음 여행 후기나 계획에서 핵심 정보를 추출하세요.\n",
    "{format_instructions}\n",
    "\n",
    "여행 글:\n",
    "\"{text}\"\n",
    "\"\"\"\n",
    ")\n",
    "\n",
    "# LLM 설정 (Groq 기반 LLaMA)\n",
    "llm = ChatOpenAI(\n",
    "    base_url=\"https://api.groq.com/openai/v1\",\n",
    "    model=\"meta-llama/llama-4-scout-17b-16e-instruct\",\n",
    "    temperature=0\n",
    ")\n",
    "\n",
    "# 체인 구성\n",
    "chain: RunnableSequence = prompt | llm | parser\n",
    "\n",
    "# 테스트 입력\n",
    "text = (\n",
    "    \"지난 주에 부산으로 2박 3일 여행을 다녀왔어요. 총 30만원 정도 썼는데 \"\n",
    "    \"해운대에서 바다구경하고, 자갈치시장에서 회 먹고, 감천문화마을도 구경했어요. \"\n",
    "    \"정말 만족스러운 여행이었습니다. 5점 만점에 4점 정도 줄 수 있을 것 같아요.\"\n",
    ")\n",
    "\n",
    "# 실행\n",
    "try:\n",
    "    result = chain.invoke({\"text\": text})\n",
    "    print(\"구조화된 여행 계획:\")\n",
    "    import json\n",
    "    print(json.dumps(result, indent=4, ensure_ascii=False))\n",
    "except Exception as e:\n",
    "    print(f\"오류 발생: {e}\")\n"
   ]
  }
 ],
 "metadata": {
  "kernelspec": {
   "display_name": "langchain-basic-kGdHTiMZ-py3.12",
   "language": "python",
   "name": "python3"
  },
  "language_info": {
   "codemirror_mode": {
    "name": "ipython",
    "version": 3
   },
   "file_extension": ".py",
   "mimetype": "text/x-python",
   "name": "python",
   "nbconvert_exporter": "python",
   "pygments_lexer": "ipython3",
   "version": "3.12.7"
  }
 },
 "nbformat": 4,
 "nbformat_minor": 4
}
