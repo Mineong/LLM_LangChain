{
 "cells": [
  {
   "cell_type": "code",
   "execution_count": 1,
   "id": "c72a35a0",
   "metadata": {},
   "outputs": [
    {
     "name": "stdout",
     "output_type": "stream",
     "text": [
      "gs\n"
     ]
    }
   ],
   "source": [
    "import os\n",
    "from dotenv import load_dotenv\n",
    "\n",
    "load_dotenv()\n",
    "OPENAI_API_KEY = os.getenv(\"OPENAI_API_KEY\")\n",
    "print(OPENAI_API_KEY[:2])"
   ]
  },
  {
   "cell_type": "code",
   "execution_count": 2,
   "id": "8d82ba37",
   "metadata": {},
   "outputs": [
    {
     "name": "stdout",
     "output_type": "stream",
     "text": [
      " Before (논리적이고 보수적인 이야기)\n",
      "마법의 세계에서 벌어지는 예상치 못한 사건을 주제로 한 독창적인 짧은 이야기:\n",
      "\n",
      "**마법의 세계에서 벌어지는 예상치 못한 사건**\n",
      "\n",
      "마법의 세계에서 마법사들은 마법을 사용하여 세상을 지배하고 있었다. 하지만 어느 날, 갑자기 마법이 사라졌다. 마법사들은 당황하여 원인을 찾으려 했지만, 아무도 마법이 사라진 이유를 알지 못했다.\n",
      "\n",
      "마법사들은 긴급회의를 소집하여 마법이 사라진 원인을 찾고, 마법을 복구하는 방법을 논의했다. 하지만 회의는 의견이 분분하여 아무런 결론도 내리지 못했다.\n",
      "\n",
      "그러던 중, 한 어린 마법사가 나섰다. 그는 마\n",
      "\n",
      "-------------------------\n",
      "\n",
      " After (창의적인 이야기, 더 풍부한 표현)\n",
      "*   **마법사 마을의 수수께끼** \n",
      "\n",
      "어느 평화로운 마법사 마을이 있었다. 이곳의 마법사들은 다양한 마법을 사용하여 마을을 보호하고 유지했다. 그러나 어느 날 밤, 마을의 중심 광장에서 아주 기이한 일이 벌어졌다. 모든 마법사들이 마법을 연습하거나 휴식을 취하고 있는 시간에, 중심 광장의 나무 기둥에 갑자기 아주 밝은 빛이 나타났다.\n",
      "\n",
      "이 빛은 점차 커져서 광장을 환하게 비추었고, 광장에 있던 마법사들은 그 빛에 놀라워했다. 광장 주변에 있던 사람들은 빛이 무슨 의미인지 궁금해 하며 기둥 가까이 다가갔다.\n",
      "\n",
      "그때 광장 나무 기둥 안에서 갑자기 나타난 한 마법사, 그녀는 이 마을의 전설적인 마법사로서 오랜 시간 동안 잠들어 있었다. 기상한 마법사는 자기가 누구인지 기억하지 못했고, 무엇이 자신을 깨웠는지 알 수 없었다.\n",
      "\n",
      "빛이 사라진 후 기상한 마법사는 기둥 안에서 깨어나서 마법사 마을의 사람들에게 다가갔다. 그때 이 기상한 마법사가 자신의 마법을 사용해서 마을을 둘러싼 보호 마법을 깨뜨렸다. 이로 인해 마을의 많은 마법이 해제되어 큰 혼란이 일어났다.\n",
      "\n",
      "기상한 마법사는 자신이 무슨 짓을 했는지 모르고 있었다. 마을의 마법사들은 그 마법사를 어떻게\n"
     ]
    }
   ],
   "source": [
    "from langchain_openai import ChatOpenAI\n",
    "\n",
    "#  보수적인 설정 (일관된, 논리적인 이야기)\n",
    "llm_before = ChatOpenAI(\n",
    "    #model=\"gpt-3.5-turbo-0125\",\n",
    "    base_url=\"https://api.groq.com/openai/v1\",  # Groq API 엔드포인트\n",
    "    model=\"meta-llama/llama-4-scout-17b-16e-instruct\",  # Spring AI와 동일한 모델\n",
    "    temperature=0.2,  # 낮은 온도로 예측 가능한 출력\n",
    "    presence_penalty=0.0,  # 기존 패턴 유지\n",
    "    frequency_penalty=0.0,  # 반복 허용\n",
    "    max_tokens=150,  # 출력 길이 제한\n",
    "    top_p=1.0  # 확률 상위 100% 내에서 선택 (제한 없음)\n",
    ")\n",
    "\n",
    "#  창의적인 설정 (더 독창적이고 예측 불가능한 이야기)\n",
    "llm_after = ChatOpenAI(\n",
    "    #model=\"gpt-3.5-turbo-0125\",\n",
    "    base_url=\"https://api.groq.com/openai/v1\",  # Groq API 엔드포인트\n",
    "    model=\"meta-llama/llama-4-scout-17b-16e-instruct\",  # Spring AI와 동일한 모델\n",
    "    temperature=1.2,  # 높은 온도로 창의적인 답변 유도\n",
    "    presence_penalty=1.2,  # 새로운 단어와 개념 유도\n",
    "    frequency_penalty=0.5,  # 반복을 억제하여 더 다양한 표현 생성\n",
    "    max_tokens=300,  # 더 긴 이야기 허용\n",
    "    top_p=0.8  # 제한 없이 다양한 단어 선택 가능\n",
    ")\n",
    "\n",
    "# 질문 설정: 짧은 판타지 이야기 생성\n",
    "# question = \"마법의 세계에서 용이 인간과 친구가 되는 짧은 이야기를 써 주세요.\"\n",
    "question = \"마법의 세계에서 벌어지는 예상치 못한 사건을 주제로 독창적인 짧은 이야기를 만들어 주세요.\"\n",
    "\n",
    "# 모델 호출\n",
    "response_before = llm_before.invoke(question)\n",
    "response_after = llm_after.invoke(question)\n",
    "\n",
    "# 결과 출력\n",
    "print(\" Before (논리적이고 보수적인 이야기)\")\n",
    "print(response_before.content)\n",
    "\n",
    "print(\"\\n-------------------------\\n\")\n",
    "\n",
    "print(\" After (창의적인 이야기, 더 풍부한 표현)\")\n",
    "print(response_after.content)"
   ]
  },
  {
   "cell_type": "code",
   "execution_count": null,
   "id": "fe6495d1",
   "metadata": {},
   "outputs": [],
   "source": []
  }
 ],
 "metadata": {
  "kernelspec": {
   "display_name": "langchain-basic-kGdHTiMZ-py3.12",
   "language": "python",
   "name": "python3"
  },
  "language_info": {
   "codemirror_mode": {
    "name": "ipython",
    "version": 3
   },
   "file_extension": ".py",
   "mimetype": "text/x-python",
   "name": "python",
   "nbconvert_exporter": "python",
   "pygments_lexer": "ipython3",
   "version": "3.12.7"
  }
 },
 "nbformat": 4,
 "nbformat_minor": 5
}
