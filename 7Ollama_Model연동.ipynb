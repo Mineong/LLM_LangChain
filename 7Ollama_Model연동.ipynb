{
 "cells": [
  {
   "cell_type": "code",
   "execution_count": 1,
   "id": "864e4479",
   "metadata": {},
   "outputs": [
    {
     "name": "stdout",
     "output_type": "stream",
     "text": [
      "Ollama is running\n"
     ]
    }
   ],
   "source": [
    "\n",
    "import requests\n",
    "\n",
    "response = requests.get(\"http://127.0.0.1:11434\")\n",
    "print(response.text)"
   ]
  },
  {
   "cell_type": "code",
   "execution_count": null,
   "id": "720d7bf1",
   "metadata": {},
   "outputs": [
    {
     "name": "stdout",
     "output_type": "stream",
     "text": [
      "<think>\n",
      "First, I need to compare the two numbers: 9.9 and 9.11.\n",
      "\n",
      "Both numbers have the same whole number part, which is 9.\n",
      "\n",
      "To make a fair comparison, I'll align them by adding an extra zero to 9.9, making it 9.90.\n",
      "\n",
      "Now that both numbers have the same decimal places, I can compare each corresponding digit.\n",
      "\n",
      "Starting from the left, the tenths place in both numbers is 9, which is equal.\n",
      "\n",
      "Next, looking at the hundredths place: 0 (from 9.90) vs. 1 (from 9.11). Since 0 is less than 1, this means that 9.90 is smaller than 9.11.\n",
      "\n",
      "Therefore, 9.11 is larger than 9.9.\n",
      "</think>\n",
      "\n",
      "To determine which number is bigger between **9.9** and **9.11**, let's compare them step by step.\n",
      "\n",
      "### Step 1: Align the Decimal Places\n",
      "Both numbers can be aligned to make comparison easier:\n",
      "- **9.9**\n",
      "- **9.11**\n",
      "\n",
      "To align them, we can write **9.9** as **9.90**.\n",
      "\n",
      "So now we have:\n",
      "- **9.90**\n",
      "- **9.11**\n",
      "\n",
      "### Step 2: Compare Digit by Digit\n",
      "Starting from the left (the tenths place):\n",
      "\n",
      "1. **Tenths Place:**\n",
      "   - Both numbers have **9** in the tenths place.\n",
      "   \n",
      "2. **Hundredths Place:**\n",
      "   - **9.90** has **0** in the hundredths place.\n",
      "   - **9.11** has **1** in the hundredths place.\n",
      "\n",
      "Since **0 < 1**, this means that **9.90** is smaller than **9.11**.\n",
      "\n",
      "### Conclusion\n",
      "Therefore, **9.11** is larger than **9.9**.\n",
      "\n",
      "\\[\n",
      "\\boxed{9.11}\n",
      "\\]"
     ]
    },
    {
     "data": {
      "text/markdown": [
       "<think>\n",
       "First, I need to compare the two numbers: 9.9 and 9.11.\n",
       "\n",
       "Both numbers have the same whole number part, which is 9.\n",
       "\n",
       "To make a fair comparison, I'll align them by adding an extra zero to 9.9, making it 9.90.\n",
       "\n",
       "Now that both numbers have the same decimal places, I can compare each corresponding digit.\n",
       "\n",
       "Starting from the left, the tenths place in both numbers is 9, which is equal.\n",
       "\n",
       "Next, looking at the hundredths place: 0 (from 9.90) vs. 1 (from 9.11). Since 0 is less than 1, this means that 9.90 is smaller than 9.11.\n",
       "\n",
       "Therefore, 9.11 is larger than 9.9.\n",
       "</think>\n",
       "\n",
       "To determine which number is bigger between **9.9** and **9.11**, let's compare them step by step.\n",
       "\n",
       "### Step 1: Align the Decimal Places\n",
       "Both numbers can be aligned to make comparison easier:\n",
       "- **9.9**\n",
       "- **9.11**\n",
       "\n",
       "To align them, we can write **9.9** as **9.90**.\n",
       "\n",
       "So now we have:\n",
       "- **9.90**\n",
       "- **9.11**\n",
       "\n",
       "### Step 2: Compare Digit by Digit\n",
       "Starting from the left (the tenths place):\n",
       "\n",
       "1. **Tenths Place:**\n",
       "   - Both numbers have **9** in the tenths place.\n",
       "   \n",
       "2. **Hundredths Place:**\n",
       "   - **9.90** has **0** in the hundredths place.\n",
       "   - **9.11** has **1** in the hundredths place.\n",
       "\n",
       "Since **0 < 1**, this means that **9.90** is smaller than **9.11**.\n",
       "\n",
       "### Conclusion\n",
       "Therefore, **9.11** is larger than **9.9**.\n",
       "\n",
       "\\[\n",
       "\\boxed{9.11}\n",
       "\\]"
      ],
      "text/plain": [
       "<IPython.core.display.Markdown object>"
      ]
     },
     "metadata": {},
     "output_type": "display_data"
    }
   ],
   "source": [
    "from langchain_ollama import ChatOllama\n",
    "from langchain_core.prompts import ChatPromptTemplate\n",
    "\n",
    "# Ollama를 사용하여 로컬에서 실행 중인 llama3.2 모델 로드\n",
    "llm = ChatOllama(model=\"qwen2.5:1.5b\")\n",
    "\n",
    "# 더 정확한 응답을 위한 개선된 프롬프트\n",
    "prompt_template = ChatPromptTemplate.from_messages([\n",
    "    (\"system\", \"You are an AI assistant that provides accurate and detailed answers.\"),\n",
    "    (\"human\", \"Q: {question}\\nA:\")\n",
    "])\n",
    "\n",
    "# 최신 LangChain 방식: RunnableSequence 활용\n",
    "chain = prompt_template | llm\n",
    "\n",
    "# 실행 예시\n",
    "question = \"파이썬은 무엇인가요?\"\n",
    "response = chain.invoke({\"question\": question})\n",
    "\n",
    "print(response.content)"
   ]
  },
  {
   "cell_type": "code",
   "execution_count": null,
   "id": "71a6b4d3",
   "metadata": {},
   "outputs": [],
   "source": []
  }
 ],
 "metadata": {
  "kernelspec": {
   "display_name": "langchain-basic-kGdHTiMZ-py3.12",
   "language": "python",
   "name": "python3"
  },
  "language_info": {
   "codemirror_mode": {
    "name": "ipython",
    "version": 3
   },
   "file_extension": ".py",
   "mimetype": "text/x-python",
   "name": "python",
   "nbconvert_exporter": "python",
   "pygments_lexer": "ipython3",
   "version": "3.12.7"
  }
 },
 "nbformat": 4,
 "nbformat_minor": 5
}
