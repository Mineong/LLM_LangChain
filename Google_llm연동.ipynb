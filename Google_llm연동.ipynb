{
 "cells": [
  {
   "cell_type": "code",
   "execution_count": 6,
   "id": "5f36d95c",
   "metadata": {},
   "outputs": [
    {
     "name": "stdout",
     "output_type": "stream",
     "text": [
      "AI\n"
     ]
    }
   ],
   "source": [
    "import os\n",
    "from dotenv import load_dotenv\n",
    "\n",
    "load_dotenv()\n",
    "UPSTAGE_API_KEY = os.getenv(\"GOOGLE_API_KEY\")\n",
    "print(UPSTAGE_API_KEY[:2]) # type: ignore"
   ]
  },
  {
   "cell_type": "code",
   "execution_count": 3,
   "id": "8ec4d91d",
   "metadata": {},
   "outputs": [
    {
     "name": "stdout",
     "output_type": "stream",
     "text": [
      " Google Gemini Response:\n",
      "LangChain은 대규모 언어 모델(LLM)을 애플리케이션에 통합하기 위한 프레임워크입니다.  단순히 LLM을 호출하는 것 이상으로,  다양한 기능을 제공하여 LLM 기반 애플리케이션 개발을 더욱 효율적이고 강력하게 만들어줍니다.  핵심 기능은 다음과 같습니다.\n",
      "\n",
      "* **모듈화:** LangChain은 LLM, 프로세스, 메모리 등을 모듈로 분리하여 개발 및 유지보수를 용이하게 합니다.  다양한 LLM(OpenAI, Hugging Face 등)과 다른 구성 요소를 쉽게 교체하고 통합할 수 있습니다.\n",
      "\n",
      "* **체인(Chains):** 여러 LLM 호출이나 다른 구성 요소를 순차적으로 또는 병렬적으로 연결하여 복잡한 작업을 수행할 수 있도록 합니다.  예를 들어, 문서 요약, 질문 응답, 챗봇 등을 구현할 수 있습니다.  다양한 체인 유형(예: `SequentialChain`, `MapReduceChain`)을 제공하여 다양한 작업 흐름을 지원합니다.\n",
      "\n",
      "* **인덱싱 및 검색:**  외부 데이터 소스(문서, 데이터베이스 등)를 인덱싱하고 검색하여 LLM이 필요한 정보에 접근할 수 있도록 합니다.  이를 통해 LLM은 외부 지식을 활용하여 더욱 정확하고 풍부한 응답을 생성할 수 있습니다.  VectorDB와의 통합을 지원하여 효율적인 유사성 검색을 가능하게 합니다.\n",
      "\n",
      "* **메모리:**  LLM과의 이전 상호 작용을 기억하여 컨텍스트를 유지합니다.  이를 통해 더욱 자연스럽고 일관성 있는 대화형 애플리케이션을 개발할 수 있습니다.  다양한 메모리 유형(예: `ConversationBufferMemory`, `ConversationSummaryMemory`)을 제공합니다.\n",
      "\n",
      "* **에이전트(Agents):**  LLM이 외부 도구(검색 엔진, 계산기 등)를 사용하여 작업을 수행할 수 있도록 합니다.  에이전트는 LLM이 어떤 도구를 사용할지 결정하고, 도구를 사용하여 정보를 수집하고, 최종 결과를 생성합니다.  이를 통해 LLM의 기능을 확장하고 더욱 복잡한 작업을 처리할 수 있습니다.\n",
      "\n",
      "**LangChain의 장점:**\n",
      "\n",
      "* **개발 속도 향상:** 모듈화된 구성 요소와 다양한 기능을 통해 LLM 기반 애플리케이션 개발 시간을 단축할 수 있습니다.\n",
      "* **유지보수 용이성:** 모듈화된 설계로 코드 유지보수가 용이합니다.\n",
      "* **확장성:** 다양한 LLM과 구성 요소를 지원하여 애플리케이션을 쉽게 확장할 수 있습니다.\n",
      "* **재사용성:**  구성 요소를 재사용하여 다양한 애플리케이션을 개발할 수 있습니다.\n",
      "\n",
      "\n",
      "**LangChain의 단점:**\n",
      "\n",
      "* **복잡성:**  다양한 기능을 제공하지만, 초보자에게는 다소 복잡하게 느껴질 수 있습니다.\n",
      "* **학습 곡선:**  LangChain을 효과적으로 사용하기 위해서는 약간의 학습이 필요합니다.\n",
      "\n",
      "\n",
      "결론적으로, LangChain은 LLM 기반 애플리케이션 개발을 위한 강력하고 유연한 프레임워크입니다.  복잡한 애플리케이션을 효율적으로 개발하고자 하는 개발자에게 유용한 도구입니다.  하지만,  복잡성과 학습 곡선을 고려하여 프로젝트의 규모와 개발자의 경험에 맞춰 사용해야 합니다.\n"
     ]
    }
   ],
   "source": [
    "from langchain_google_genai import ChatGoogleGenerativeAI\n",
    "from langchain_core.prompts import ChatPromptTemplate\n",
    "    \n",
    "# API 키 설정\n",
    "# os.environ[\"GOOGLE_API_KEY\"] = \"your-google-api-key\"\n",
    "\n",
    "# 모델 초기화\n",
    "llm = ChatGoogleGenerativeAI(\n",
    "    model=\"gemini-1.5-flash\",  # 또는 \"gemini-pro-vision\"\n",
    "    temperature=0.3    \n",
    ")\n",
    "\n",
    "# 프롬프트 설정\n",
    "prompt = ChatPromptTemplate.from_messages([\n",
    "    (\"system\", \"당신은 AI 전문가입니다다.\"),\n",
    "    (\"human\", \"{topic}은 무엇인가요?\")\n",
    "])\n",
    "\n",
    "# 체인 실행\n",
    "chain = prompt | llm\n",
    "response = chain.invoke({\"topic\": \"LangChain\"})\n",
    "\n",
    "print(\" Google Gemini Response:\")\n",
    "print(response.content)"
   ]
  },
  {
   "cell_type": "code",
   "execution_count": null,
   "id": "fd4cee1d",
   "metadata": {},
   "outputs": [],
   "source": []
  }
 ],
 "metadata": {
  "kernelspec": {
   "display_name": "langchain-basic-kGdHTiMZ-py3.12",
   "language": "python",
   "name": "python3"
  },
  "language_info": {
   "codemirror_mode": {
    "name": "ipython",
    "version": 3
   },
   "file_extension": ".py",
   "mimetype": "text/x-python",
   "name": "python",
   "nbconvert_exporter": "python",
   "pygments_lexer": "ipython3",
   "version": "3.12.7"
  }
 },
 "nbformat": 4,
 "nbformat_minor": 5
}
