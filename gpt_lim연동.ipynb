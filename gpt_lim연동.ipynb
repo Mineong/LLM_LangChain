{
 "cells": [
  {
   "cell_type": "code",
   "execution_count": 1,
   "id": "2ec6879a",
   "metadata": {},
   "outputs": [
    {
     "name": "stdout",
     "output_type": "stream",
     "text": [
      "Hello, world!\n"
     ]
    }
   ],
   "source": [
    "print('Hello, world!')"
   ]
  },
  {
   "cell_type": "code",
   "execution_count": 2,
   "id": "4a3018a5",
   "metadata": {},
   "outputs": [],
   "source": [
    "import os\n",
    "from dotenv import load_dotenv\n",
    "from langchain_core.prompts import ChatPromptTemplate\n",
    "from langchain_openai import ChatOpenAI \n",
    "\n",
    "\n",
    "load_dotenv()\n",
    "OPENAI_API_KEY = os.getenv(\"OPENAI_API_KEY\")"
   ]
  },
  {
   "cell_type": "code",
   "execution_count": 3,
   "id": "ce837de5",
   "metadata": {},
   "outputs": [
    {
     "name": "stdout",
     "output_type": "stream",
     "text": [
      "input_variables=['input'] input_types={} partial_variables={} messages=[SystemMessagePromptTemplate(prompt=PromptTemplate(input_variables=[], input_types={}, partial_variables={}, template='당신은 개발자입니다.'), additional_kwargs={}), HumanMessagePromptTemplate(prompt=PromptTemplate(input_variables=['input'], input_types={}, partial_variables={}, template='{input}'), additional_kwargs={})]\n"
     ]
    }
   ],
   "source": [
    "# prompt\n",
    "prompt = ChatPromptTemplate.from_messages(\n",
    "    [ (\"system\", \"당신은 개발자입니다.\") , \n",
    "     (\"user\", \"{input}\") ]\n",
    ")\n",
    "print(prompt)\n",
    "\n",
    "prompt_text = prompt.format(input=\"파이썬은 무엇인가요? 자세하게 설명해주세요\")"
   ]
  },
  {
   "cell_type": "code",
   "execution_count": 4,
   "id": "9606d0b0",
   "metadata": {},
   "outputs": [
    {
     "name": "stdout",
     "output_type": "stream",
     "text": [
      "client=<openai.resources.chat.completions.completions.Completions object at 0x0000020043A78FB0> async_client=<openai.resources.chat.completions.completions.AsyncCompletions object at 0x0000020043AA0050> root_client=<openai.OpenAI object at 0x0000020040164710> root_async_client=<openai.AsyncOpenAI object at 0x0000020043BCEE40> model_name='meta-llama/llama-4-scout-17b-16e-instruct' temperature=0.7 model_kwargs={} openai_api_key=SecretStr('**********') openai_api_base='https://api.groq.com/openai/v1'\n"
     ]
    }
   ],
   "source": [
    "# Groq API를 사용하는 ChatOpenAI 인스턴스 생성\n",
    "llm = ChatOpenAI(\n",
    "    api_key=OPENAI_API_KEY,\n",
    "    base_url=\"https://api.groq.com/openai/v1\",  # Groq API 엔드포인트\n",
    "    model=\"meta-llama/llama-4-scout-17b-16e-instruct\",\n",
    "    temperature=0.7\n",
    ")\n",
    "print(llm)"
   ]
  },
  {
   "cell_type": "code",
   "execution_count": 5,
   "id": "c6496b97",
   "metadata": {},
   "outputs": [
    {
     "name": "stdout",
     "output_type": "stream",
     "text": [
      "응답: 파이썬! 프로그래밍 세계에서 매우 인기 있는 언어입니다. 파이썬은 1991년에 네덜란드계 프로그래머인 귀도 반 로섬(Guido van Rossum)에 의해 개발된 고수준 프로그래밍 언어입니다. 현재는 파이썬 소프트웨어 재단(Python Software Foundation)에서 관리하고 있습니다.\n",
      "\n",
      "**파이썬의 특징**\n",
      "\n",
      "파이썬은 여러 가지 특징을 가지고 있습니다. 몇 가지 주요 특징을 살펴보겠습니다.\n",
      "\n",
      "1. **쉬운 학습 곡선**: 파이썬은 매우 직관적이고 읽기 쉬운 문법을 가지고 있습니다. 따라서 초보자들이 프로그래밍을 시작할 때 매우 적합합니다.\n",
      "2. **고수준 언어**: 파이썬은 고수준 언어로서, 개발자가 컴퓨터의 내부 구조나 메모리 관리 등에 대해 신경 쓸 필요 없이 프로그래밍에 집중할 수 있습니다.\n",
      "3. **객체 지향 언어**: 파이썬은 객체 지향 프로그래밍(OOP) 개념을 지원합니다. 이는 코드의 재사용성과 모듈성을 높여줍니다.\n",
      "4. **동적 타이핑**: 파이썬은 동적 타이핑 언어입니다. 이는 변수의 타입을 선언할 필요가 없다는 것을 의미합니다.\n",
      "5. **대규모 라이브러리**: 파이썬은 방대한 라이브러리와 모듈을 보유하고 있습니다. 이를 통해 개발자는 다양한 작업을 쉽게 수행할 수 있습니다.\n",
      "\n",
      "**파이썬의 응용 분야**\n",
      "\n",
      "파이썬은 다양한 분야에서 사용됩니다. 몇 가지 주요 응용 분야를 살펴보겠습니다.\n",
      "\n",
      "1. **웹 개발**: 파이썬은 웹 개발을 위해 널리 사용됩니다. 프레임워크로는 Django, Flask 등이 있습니다.\n",
      "2. **데이터 과학**: 파이썬은 데이터 과학 분야에서 매우 인기 있습니다. 라이브러리로는 NumPy, pandas, scikit-learn 등이 있습니다.\n",
      "3. **인공지능**: 파이썬은 인공지능 분야에서도 널리 사용됩니다. 라이브러리로는 TensorFlow, Keras 등이 있습니다.\n",
      "4. **스크립팅**: 파이썬은 스크립팅 언어로도 사용됩니다. 시스템 관리, 자동화 등에 사용됩니다.\n",
      "5. **교육**: 파이썬은 교육 현장에서 널리 사용됩니다. 프로그래밍의 기초를 배우기 위한 언어로 적합합니다.\n",
      "\n",
      "**파이썬의 버전**\n",
      "\n",
      "파이썬에는 두 가지 주요 버전이 있습니다.\n",
      "\n",
      "1. **파이썬 2.x**: 파이썬 2.x는 2000년에 출시되었습니다. 현재는 유지보수 모드에 있습니다.\n",
      "2. **파이썬 3.x**: 파이썬 3.x는 2008년에 출시되었습니다. 현재는 적극적으로 개발되고 있습니다.\n",
      "\n",
      "파이썬 3.x가 현재 가장 많이 사용되는 버전이며, 새로운 프로젝트에는 파이썬 3.x를 사용하는 것이 좋습니다.\n",
      "\n",
      "이상으로 파이썬에 대한 소개를 마칩니다. 파이썬은 쉽고 강력한 언어로서, 다양한 분야에서 널리 사용됩니다.\n"
     ]
    }
   ],
   "source": [
    "try:\n",
    "    response = llm.invoke(prompt_text)\n",
    "    print(\"응답:\", response.content)\n",
    "except Exception as e:\n",
    "    print(f\"오류 발생: {e}\")"
   ]
  },
  {
   "cell_type": "code",
   "execution_count": null,
   "id": "8ea226ba",
   "metadata": {},
   "outputs": [],
   "source": []
  },
  {
   "cell_type": "code",
   "execution_count": null,
   "id": "d9142b82",
   "metadata": {},
   "outputs": [],
   "source": [
    "# chain 연결 (LCEL)\n",
    "chain = prompt | llm\n",
    "\n",
    "# chain 호출\n",
    "result = chain.invoke({\"input\": \"인공지능 모델의 학습 원리\"})\n",
    "print(type(result))\n",
    "print(result.content)"
   ]
  }
 ],
 "metadata": {
  "kernelspec": {
   "display_name": "langchain-basic-kGdHTiMZ-py3.12",
   "language": "python",
   "name": "python3"
  },
  "language_info": {
   "codemirror_mode": {
    "name": "ipython",
    "version": 3
   },
   "file_extension": ".py",
   "mimetype": "text/x-python",
   "name": "python",
   "nbconvert_exporter": "python",
   "pygments_lexer": "ipython3",
   "version": "3.12.7"
  }
 },
 "nbformat": 4,
 "nbformat_minor": 5
}
